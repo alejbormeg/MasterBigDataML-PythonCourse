{
 "cells": [
  {
   "cell_type": "markdown",
   "metadata": {},
   "source": [
    "# Python exercises\n",
    "\n",
    "In the following jupyter notebook I write all the python exercises I do for the 2023-2024 UCM Master in Big Data, Data Science and AI Python Course."
   ]
  },
  {
   "cell_type": "markdown",
   "metadata": {},
   "source": [
    "Required dependencies:"
   ]
  },
  {
   "cell_type": "code",
   "execution_count": null,
   "metadata": {},
   "outputs": [],
   "source": []
  },
  {
   "cell_type": "code",
   "execution_count": 1,
   "metadata": {},
   "outputs": [],
   "source": [
    "import numpy as np"
   ]
  },
  {
   "cell_type": "markdown",
   "metadata": {},
   "source": [
    "## Numpy\n",
    "\n",
    "1. Create a function to perform Matrix Multiplication for given A and B square matrices of dimension n using the following formula: \n",
    "![MatrixMultiplication](./images/NumpyMatrixMultiplication.png)"
   ]
  },
  {
   "cell_type": "code",
   "execution_count": 12,
   "metadata": {},
   "outputs": [],
   "source": [
    "def matrix_multiplication(A: np.ndarray, B: np.ndarray) -> np.ndarray:\n",
    "    \"\"\"\n",
    "    This function implements the previous formula for square dimension matrices\n",
    "\n",
    "    Parameters\n",
    "    ----------\n",
    "    A, B: Numpy arrays of dimensions (n,n)\n",
    "\n",
    "    Returns\n",
    "    -------\n",
    "    Numpy Array\n",
    "        Result of matrix multiplication\n",
    "    \n",
    "    Example\n",
    "    -------\n",
    "    >>> A = np.array([[1,2],[3,4]])\n",
    "    >>> B = np.array([[3,2],[1,0]])\n",
    "    >>> C = matrix_multiplication(A, B)\n",
    "    >>> C \n",
    "    [[ 5.  2.]\n",
    "    [13.  6.]]\n",
    "    \"\"\"\n",
    "    b_transpose = np.transpose(B)\n",
    "    i = 0\n",
    "    dimension = A.shape[0]\n",
    "    C = np.zeros((dimension,dimension))\n",
    "    for i in range(dimension):\n",
    "        for j in range(dimension):\n",
    "            C[i][j] = np.inner(A[i], b_transpose[j])\n",
    "    return C"
   ]
  },
  {
   "cell_type": "code",
   "execution_count": 13,
   "metadata": {},
   "outputs": [
    {
     "name": "stdout",
     "output_type": "stream",
     "text": [
      "[[ 5.  2.]\n",
      " [13.  6.]]\n"
     ]
    }
   ],
   "source": [
    "#Example \n",
    "A = np.array([[1,2],[3,4]])\n",
    "B = np.array([[3,2],[1,0]])\n",
    "C = matrix_multiplication(A, B)\n",
    "print(C)"
   ]
  }
 ],
 "metadata": {
  "interpreter": {
   "hash": "45beaf1bbaf1f4539db6cc65708e9bc09be995c5454858dbd2322c7e6d854a88"
  },
  "kernelspec": {
   "display_name": "Python 3.11.5 ('base')",
   "language": "python",
   "name": "python3"
  },
  "language_info": {
   "codemirror_mode": {
    "name": "ipython",
    "version": 3
   },
   "file_extension": ".py",
   "mimetype": "text/x-python",
   "name": "python",
   "nbconvert_exporter": "python",
   "pygments_lexer": "ipython3",
   "version": "3.11.5"
  },
  "orig_nbformat": 4
 },
 "nbformat": 4,
 "nbformat_minor": 2
}
